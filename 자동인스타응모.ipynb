{
 "cells": [
  {
   "cell_type": "code",
   "execution_count": 1,
   "metadata": {},
   "outputs": [],
   "source": [
    "from selenium import webdriver\n",
    "from time import sleep\n",
    "\n",
    "\n",
    "\n",
    "driver = webdriver.Chrome(\"chromedriver.exe\")"
   ]
  },
  {
   "cell_type": "code",
   "execution_count": 2,
   "metadata": {},
   "outputs": [],
   "source": [
    "driver.get(\"https://www.instagram.com/\")"
   ]
  },
  {
   "cell_type": "code",
   "execution_count": 3,
   "metadata": {},
   "outputs": [
    {
     "ename": "AttributeError",
     "evalue": "'WebDriver' object has no attribute 'find_elements_by_Class_Name'",
     "output_type": "error",
     "traceback": [
      "\u001b[1;31m---------------------------------------------------------------------------\u001b[0m",
      "\u001b[1;31mAttributeError\u001b[0m                            Traceback (most recent call last)",
      "\u001b[1;32m<ipython-input-3-9a166ca00a5f>\u001b[0m in \u001b[0;36m<module>\u001b[1;34m\u001b[0m\n\u001b[0;32m      9\u001b[0m \u001b[1;33m\u001b[0m\u001b[0m\n\u001b[0;32m     10\u001b[0m \u001b[1;31m#\"로그인 정보를 저장하시겠어요?\" 창 넘기기\u001b[0m\u001b[1;33m\u001b[0m\u001b[1;33m\u001b[0m\u001b[1;33m\u001b[0m\u001b[0m\n\u001b[1;32m---> 11\u001b[1;33m \u001b[1;32mif\u001b[0m \u001b[0mdriver\u001b[0m\u001b[1;33m.\u001b[0m\u001b[0mfind_elements_by_Class_Name\u001b[0m\u001b[1;33m(\u001b[0m\u001b[1;34m'olLwo'\u001b[0m\u001b[1;33m)\u001b[0m\u001b[1;33m:\u001b[0m\u001b[1;33m\u001b[0m\u001b[1;33m\u001b[0m\u001b[0m\n\u001b[0m\u001b[0;32m     12\u001b[0m     \u001b[0mdriver\u001b[0m\u001b[1;33m.\u001b[0m\u001b[0mfind_element_find_elements_by_Class_Name\u001b[0m\u001b[1;33m(\u001b[0m\u001b[1;34m'sqdOP  L3NKy   y3zKF     '\u001b[0m\u001b[1;33m)\u001b[0m\u001b[1;33m.\u001b[0m\u001b[0mclick\u001b[0m\u001b[1;33m(\u001b[0m\u001b[1;33m)\u001b[0m\u001b[1;33m\u001b[0m\u001b[1;33m\u001b[0m\u001b[0m\n\u001b[0;32m     13\u001b[0m \u001b[1;33m\u001b[0m\u001b[0m\n",
      "\u001b[1;31mAttributeError\u001b[0m: 'WebDriver' object has no attribute 'find_elements_by_Class_Name'"
     ]
    }
   ],
   "source": [
    "#자동 로그인\n",
    "driver.implicitly_wait(100)\n",
    "\n",
    "driver.find_element_by_name('username').send_keys('bumsupark1201@gmail.com')\n",
    "\n",
    "driver.find_element_by_name('password').send_keys('qjatn132435')\n",
    "\n",
    "driver.find_element_by_xpath(\"//button[@type='submit']\").click()\n",
    "\n",
    "#\"로그인 정보를 저장하시겠어요?\" 창 넘기기\n",
    "if driver.find_elements_by_Class_Name('olLwo'):\n",
    "    driver.find_element_find_elements_by_Class_Name('sqdOP  L3NKy   y3zKF     ').click()\n",
    "\n",
    "    \n",
    "    "
   ]
  },
  {
   "cell_type": "code",
   "execution_count": 4,
   "metadata": {},
   "outputs": [
    {
     "name": "stdout",
     "output_type": "stream",
     "text": [
      "<class 'selenium.webdriver.remote.webelement.WebElement'>\n"
     ]
    }
   ],
   "source": [
    "#\"로그인 정보를 저장하시겠어요?\" 창 넘기기\n",
    "find = driver.find_elements_by_xpath(\"//button[@type='button']\")\n",
    "print(type(find[0]))\n",
    "find[1].click()\n",
    "\n",
    "\n",
    "\n",
    "#print(len(find))\n",
    "#if driver.find_element_by_class_name('olLwo'):\n",
    "#    driver.find_element_by_class_name('sqdOP  L3NKy   y3zKF     ').click()\n"
   ]
  },
  {
   "cell_type": "code",
   "execution_count": 5,
   "metadata": {},
   "outputs": [],
   "source": [
    "#\"알림설정\" 창 넘기기\n",
    "find = driver.find_elements_by_xpath(\"//button[@tabindex='0']\")\n",
    "find[1].click()"
   ]
  },
  {
   "cell_type": "code",
   "execution_count": 25,
   "metadata": {},
   "outputs": [],
   "source": [
    "#\"검색\" 창 클릭하기\n",
    "find = driver.find_elements_by_xpath(\"//span[contains(text(),'검색')]\")\n",
    "find[0].click()"
   ]
  },
  {
   "cell_type": "code",
   "execution_count": 28,
   "metadata": {},
   "outputs": [],
   "source": [
    "#아이디 검색\n",
    "find = driver.find_elements_by_xpath(\"//input[@placeholder='검색']\")\n",
    "find[0].send_keys('NBCPBS')\n",
    "\n",
    "driver.implicitly_wait(100)"
   ]
  },
  {
   "cell_type": "code",
   "execution_count": 29,
   "metadata": {},
   "outputs": [],
   "source": [
    "#아이디 검색해서 제일 처음나오는 게정 클릭하기\n",
    "find_id = driver.find_elements_by_xpath(\"//span[contains(text(), '박범수')]\")\n",
    "find_id[0].click()"
   ]
  },
  {
   "cell_type": "code",
   "execution_count": 55,
   "metadata": {},
   "outputs": [
    {
     "name": "stdout",
     "output_type": "stream",
     "text": [
      "num: 게시물 4\n",
      "temp: 게시물 4\n"
     ]
    }
   ],
   "source": [
    "#새로 게시물이 올라올 때 까지 새로고침\n",
    "board = driver.find_elements_by_xpath(\"//span[contains(text(), '게시물')]\")\n",
    "num = board[0].text\n",
    "print(\"num:\",num)\n",
    "\n",
    "driver.implicitly_wait(100)\n",
    "\n",
    "board = driver.find_elements_by_xpath(\"//span[contains(text(), '게시물')]\")\n",
    "temp = board[0].text\n",
    "print(\"temp:\",temp)"
   ]
  },
  {
   "cell_type": "code",
   "execution_count": 56,
   "metadata": {},
   "outputs": [
    {
     "name": "stdout",
     "output_type": "stream",
     "text": [
      "게시물 4\n",
      "게시물 4\n"
     ]
    }
   ],
   "source": [
    "import time\n",
    "import random\n",
    "\n",
    "print(num)\n",
    "print(temp)"
   ]
  },
  {
   "cell_type": "code",
   "execution_count": 57,
   "metadata": {},
   "outputs": [
    {
     "name": "stdout",
     "output_type": "stream",
     "text": [
      "현재 게시물 수: 게시물 4\n",
      "새로고침중인 게시물의 수: 게시물 4\n",
      "새로고침중인 게시물의 수: 게시물 4\n",
      "새로고침중인 게시물의 수: 게시물 4\n",
      "새로고침중인 게시물의 수: 게시물 4\n",
      "새로고침중인 게시물의 수: 게시물 4\n",
      "새로고침중인 게시물의 수: 게시물 4\n",
      "새로고침중인 게시물의 수: 게시물 4\n",
      "새로고침중인 게시물의 수: 게시물 5\n",
      "게시물 수가 증가했습니다\n"
     ]
    }
   ],
   "source": [
    "print(\"현재 게시물 수:\", num)\n",
    "\n",
    "while num==temp:\n",
    "    driver.get(driver.current_url)\n",
    "\n",
    "    board = driver.find_elements_by_xpath(\"//span[contains(text(), '게시물')]\")\n",
    "    temp = board[0].text\n",
    "    print(\"새로고침중인 게시물의 수:\",temp)\n",
    "    \n",
    "    time.sleep(random.uniform(1,2))\n",
    "\n",
    "print(\"게시물 수가 증가했습니다\")"
   ]
  },
  {
   "cell_type": "code",
   "execution_count": null,
   "metadata": {},
   "outputs": [],
   "source": [
    "driver.get(driver.current_url)"
   ]
  },
  {
   "cell_type": "code",
   "execution_count": 58,
   "metadata": {},
   "outputs": [],
   "source": [
    "#dm보내기\n",
    "dmbutton = driver.find_elements_by_xpath(\"//button[contains(text(), '메시지 보내기')]\")\n",
    "dmbutton[0].click()"
   ]
  },
  {
   "cell_type": "code",
   "execution_count": 59,
   "metadata": {},
   "outputs": [],
   "source": [
    "textarea = driver.find_elements_by_xpath(\"//textarea[@placeholder='메시지 입력...']\")\n",
    "textarea[0].click()\n",
    "\n",
    "driver.implicitly_wait(50)\n",
    "\n",
    "textarea[0].send_keys('안녕하세요')\n",
    "\n",
    "driver.implicitly_wait(50)\n",
    "\n",
    "driver.find_elements_by_xpath(\"//button[contains(text(), '보내기')]\")[0].click()"
   ]
  },
  {
   "cell_type": "code",
   "execution_count": null,
   "metadata": {},
   "outputs": [],
   "source": []
  },
  {
   "cell_type": "code",
   "execution_count": null,
   "metadata": {},
   "outputs": [],
   "source": []
  },
  {
   "cell_type": "code",
   "execution_count": null,
   "metadata": {},
   "outputs": [],
   "source": []
  }
 ],
 "metadata": {
  "kernelspec": {
   "display_name": "Python 3",
   "language": "python",
   "name": "python3"
  },
  "language_info": {
   "codemirror_mode": {
    "name": "ipython",
    "version": 3
   },
   "file_extension": ".py",
   "mimetype": "text/x-python",
   "name": "python",
   "nbconvert_exporter": "python",
   "pygments_lexer": "ipython3",
   "version": "3.7.4"
  }
 },
 "nbformat": 4,
 "nbformat_minor": 2
}
